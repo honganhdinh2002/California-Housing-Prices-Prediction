{
  "nbformat": 4,
  "nbformat_minor": 0,
  "metadata": {
    "colab": {
      "private_outputs": true,
      "provenance": [],
      "gpuType": "T4"
    },
    "kernelspec": {
      "name": "python3",
      "display_name": "Python 3"
    },
    "language_info": {
      "name": "python"
    },
    "accelerator": "GPU"
  },
  "cells": [
    {
      "cell_type": "markdown",
      "source": [
        "**California Housing Price Pridiction**\n",
        "download dataset from here: https://www.kaggle.com/datasets/camnugent/california-housing-prices\n",
        "\n",
        "**Background of Problem Statement:**\n",
        "\n",
        "The US Census Bureau has published California Census Data which has 10 types of metrics such as the population, median income, median housing price, and so on for each block group in California. The dataset also serves as an input for project scoping and tries to specify the functional and nonfunctional requirements for it.\n",
        "\n",
        "\n",
        "**Problem Objective**\n",
        "\n",
        "The project aims at building a model of housing prices to predict median house values in California using the provided dataset. This model should learn from the data and be able to predict the median housing price in any district, given all the other metrics.\n",
        "\n",
        "Districts or block groups are the smallest geographical units for which the US Census Bureau publishes sample data (a block group typically has a population of 600 to 3,000 people). There are 20,640 districts in the project dataset.\n",
        "\n",
        "Domain: Finance and Housing"
      ],
      "metadata": {
        "id": "OEC267_aS16x"
      }
    },
    {
      "cell_type": "markdown",
      "source": [
        "**UNDERSTANDING THE DATASET**"
      ],
      "metadata": {
        "id": "jx4EKX8KqIyX"
      }
    },
    {
      "cell_type": "code",
      "execution_count": null,
      "metadata": {
        "id": "GyjTBtGiSusB"
      },
      "outputs": [],
      "source": [
        "import pandas as pd\n",
        "import numpy as np"
      ]
    },
    {
      "cell_type": "code",
      "source": [
        "# Importing libraries and resources\n",
        "import plotly.graph_objects as go\n",
        "import seaborn as sns\n",
        "import plotly.express as ex\n",
        "%matplotlib inline\n",
        "import matplotlib.image as mpimg\n",
        "import matplotlib.pyplot as plt\n",
        "import matplotlib\n",
        "from sklearn.preprocessing import LabelBinarizer\n",
        "from sklearn.preprocessing import LabelEncoder\n",
        "import statsmodels.api as sm\n",
        "import seaborn as sns\n",
        "from scipy import stats\n",
        "from sklearn.preprocessing import StandardScaler\n",
        "\n",
        "from sklearn.metrics import mean_squared_error, mean_absolute_error, r2_score\n",
        "from sklearn.model_selection import train_test_split\n",
        "from sklearn.linear_model import LinearRegression\n",
        "from sklearn.ensemble import RandomForestRegressor\n",
        "from sklearn import metrics\n",
        "from sklearn.tree import DecisionTreeRegressor\n",
        "from sklearn import ensemble"
      ],
      "metadata": {
        "id": "euNV1VihU62K"
      },
      "execution_count": null,
      "outputs": []
    },
    {
      "cell_type": "code",
      "source": [
        "dataset = pd.read_csv(\"/content/california_housing_price.csv\")"
      ],
      "metadata": {
        "id": "AZxdo6ylTUNg"
      },
      "execution_count": null,
      "outputs": []
    },
    {
      "cell_type": "code",
      "source": [
        "df = dataset.copy()"
      ],
      "metadata": {
        "id": "lQCo7_WrTZ4f"
      },
      "execution_count": null,
      "outputs": []
    },
    {
      "cell_type": "code",
      "source": [
        "df.head()"
      ],
      "metadata": {
        "id": "6z0H1uNyTdKD"
      },
      "execution_count": null,
      "outputs": []
    },
    {
      "cell_type": "markdown",
      "source": [
        "1. longitude: A measure of how far west a house is; a higher value is farther west\n",
        "2. latitude: A measure of how far north a house is; a higher value is farther north\n",
        "3. housingMedianAge: Median age of a house within a block; a lower number is a newer building\n",
        "4. totalRooms: Total number of rooms within a block\n",
        "5. totalBedrooms: Total number of bedrooms within a block\n",
        "6. population: Total number of people residing within a block\n",
        "7. households: Total number of households, a group of people residing within a home unit, for a block\n",
        "8. medianIncome: Median income for households within a block of houses (measured in tens of thousands of US Dollars)\n",
        "9. medianHouseValue: Median house value for households within a block (measured in US Dollars)\n",
        "10. oceanProximity: Location of the house w.r.t ocean/sea"
      ],
      "metadata": {
        "id": "9dqU0gYLNoVF"
      }
    },
    {
      "cell_type": "code",
      "source": [
        "df.describe()"
      ],
      "metadata": {
        "id": "trsuFEFdTktm"
      },
      "execution_count": null,
      "outputs": []
    },
    {
      "cell_type": "code",
      "source": [
        "df.info()"
      ],
      "metadata": {
        "id": "V1vRz500TolB"
      },
      "execution_count": null,
      "outputs": []
    },
    {
      "cell_type": "markdown",
      "source": [
        "**Shape of data**"
      ],
      "metadata": {
        "id": "NuUHPc-KTrP0"
      }
    },
    {
      "cell_type": "code",
      "source": [
        "nRow, nCol = df.shape\n",
        "print(\"Shape of dataset {}\".format(df.shape))\n",
        "print(f\"Rows: {nRow} \\nColumns: {nCol}\")"
      ],
      "metadata": {
        "id": "UeszxuMSTtRo"
      },
      "execution_count": null,
      "outputs": []
    },
    {
      "cell_type": "markdown",
      "source": [
        "**Handle missing data**"
      ],
      "metadata": {
        "id": "Bt7NPyxDTw9t"
      }
    },
    {
      "cell_type": "code",
      "source": [
        "print(df.isna().sum())\n",
        "df.isna().sum().plot(kind='bar')"
      ],
      "metadata": {
        "id": "pDDaWCgPTvAm"
      },
      "execution_count": null,
      "outputs": []
    },
    {
      "cell_type": "code",
      "source": [
        "df.dropna(thresh = 10, inplace=True)\n",
        "print(df.isna().sum())"
      ],
      "metadata": {
        "id": "AwbyjVL4T0xf"
      },
      "execution_count": null,
      "outputs": []
    },
    {
      "cell_type": "markdown",
      "source": [
        "**Check and remove duplicated data**"
      ],
      "metadata": {
        "id": "bgF0diKSUJ9B"
      }
    },
    {
      "cell_type": "code",
      "source": [
        "df.duplicated().value_counts()"
      ],
      "metadata": {
        "id": "4rfi2euXUHtW"
      },
      "execution_count": null,
      "outputs": []
    },
    {
      "cell_type": "code",
      "source": [
        "df_no_duplicates =  df.drop_duplicates(subset=None, keep=\"first\", inplace=True)\n",
        "df.duplicated().value_counts()"
      ],
      "metadata": {
        "id": "ee7pXqmlUPwm"
      },
      "execution_count": null,
      "outputs": []
    },
    {
      "cell_type": "markdown",
      "source": [
        "**Handle outlier values**"
      ],
      "metadata": {
        "id": "k0P93LcVVioc"
      }
    },
    {
      "cell_type": "code",
      "source": [
        "plt.figure(figsize=(18,8))\n",
        "sns.boxplot(data=df)"
      ],
      "metadata": {
        "id": "qGVSTi_kVjZq"
      },
      "execution_count": null,
      "outputs": []
    },
    {
      "cell_type": "markdown",
      "source": [
        "**Handling total rooms outliers**"
      ],
      "metadata": {
        "id": "y9ZFk0PIVnas"
      }
    },
    {
      "cell_type": "code",
      "source": [
        "fig, ax =plt.subplots(1,2, figsize=(12,8))\n",
        "sns.boxplot(data=df, y='total_rooms', ax=ax[0], color='#7209b7')\n",
        "sns.scatterplot(data=df,x = 'median_house_value', s = 100, y='total_rooms', ax=ax[1])"
      ],
      "metadata": {
        "id": "c0PTOQQ6VmB3"
      },
      "execution_count": null,
      "outputs": []
    },
    {
      "cell_type": "code",
      "source": [
        "df1 = df[(df['total_rooms'] <= 23000)]\n",
        "df.shape[0]"
      ],
      "metadata": {
        "id": "GUp6jzZOVsOZ"
      },
      "execution_count": null,
      "outputs": []
    },
    {
      "cell_type": "markdown",
      "source": [
        "*225 rows were removed about 1% to handle total rooms outliers*"
      ],
      "metadata": {
        "id": "Crg7eUS1VwMC"
      }
    },
    {
      "cell_type": "markdown",
      "source": [
        "**Handling total bedrooms outliers**"
      ],
      "metadata": {
        "id": "8loeEEOxV2ww"
      }
    },
    {
      "cell_type": "code",
      "source": [
        "fig, ax =plt.subplots(1,2, figsize=(12,8))\n",
        "sns.boxplot(data=df1, y='total_bedrooms', ax=ax[0], color='#7209b7')\n",
        "sns.scatterplot(data=df1,x = 'median_house_value', s = 100, y='total_bedrooms', ax=ax[1])"
      ],
      "metadata": {
        "id": "IlQC9DjRV1Jn"
      },
      "execution_count": null,
      "outputs": []
    },
    {
      "cell_type": "code",
      "source": [
        "df2 = df1[(df1['total_bedrooms'] < 3000)]\n",
        "df2.shape[0]"
      ],
      "metadata": {
        "id": "FIsOHqYXV-PS"
      },
      "execution_count": null,
      "outputs": []
    },
    {
      "cell_type": "markdown",
      "source": [
        "*49 rows were removed about 0.24% to handle total bedrooms outliers*"
      ],
      "metadata": {
        "id": "XK5D-1FyWDCe"
      }
    },
    {
      "cell_type": "markdown",
      "source": [
        "**Handling population outliers**"
      ],
      "metadata": {
        "id": "4_cG2h00WFp2"
      }
    },
    {
      "cell_type": "code",
      "source": [
        "fig, ax =plt.subplots(1,2, figsize=(12,8))\n",
        "sns.boxplot(data=df2, y='population', ax=ax[0], color='#7209b7')\n",
        "sns.scatterplot(data=df2,x = 'median_house_value', s = 100, y='population', ax=ax[1])"
      ],
      "metadata": {
        "id": "merG3bGkWDlB"
      },
      "execution_count": null,
      "outputs": []
    },
    {
      "cell_type": "code",
      "source": [
        "df3 = df2[(df2['population'] < 7500)]\n",
        "df3.shape[0]"
      ],
      "metadata": {
        "id": "aU2ou0YMWJC3"
      },
      "execution_count": null,
      "outputs": []
    },
    {
      "cell_type": "markdown",
      "source": [
        "*37 rows were removed about 0.18% to handle population outliers*"
      ],
      "metadata": {
        "id": "zIWZvQvWWNOU"
      }
    },
    {
      "cell_type": "markdown",
      "source": [
        "**Handling households outliers**"
      ],
      "metadata": {
        "id": "OGT4rzACWPSL"
      }
    },
    {
      "cell_type": "code",
      "source": [
        "fig, ax =plt.subplots(1,2, figsize=(12,8))\n",
        "sns.boxplot(data=df3, y='households', ax=ax[0], color='#7209b7')\n",
        "sns.scatterplot(data=df3,x = 'median_house_value', s = 100, y='households', ax=ax[1])"
      ],
      "metadata": {
        "id": "DcSjVLMlWQ3B"
      },
      "execution_count": null,
      "outputs": []
    },
    {
      "cell_type": "code",
      "source": [
        "df4 = df3[(df3['households'] < 2300)]\n",
        "df4.shape[0]"
      ],
      "metadata": {
        "id": "rTEqpVxMWTpm"
      },
      "execution_count": null,
      "outputs": []
    },
    {
      "cell_type": "markdown",
      "source": [
        "*47 rows were removed about 0.23% to handle households outliers*"
      ],
      "metadata": {
        "id": "rz-kHPfaWYxq"
      }
    },
    {
      "cell_type": "markdown",
      "source": [
        "**Handling median income outliers**"
      ],
      "metadata": {
        "id": "-kYdeXD9WZb5"
      }
    },
    {
      "cell_type": "code",
      "source": [
        "fig, ax =plt.subplots(1,2, figsize=(12,8))\n",
        "sns.boxplot(data=df4, y='median_income', ax=ax[0], color='#7209b7')\n",
        "sns.scatterplot(data=df4,x = 'median_house_value', s = 100, y='median_income', ax=ax[1])"
      ],
      "metadata": {
        "id": "0fo95PCpWbpO"
      },
      "execution_count": null,
      "outputs": []
    },
    {
      "cell_type": "code",
      "source": [
        "df5 = df4[(df4['median_income'] < 11)]\n",
        "df5.shape[0]"
      ],
      "metadata": {
        "id": "MxkKvgWfWeV1"
      },
      "execution_count": null,
      "outputs": []
    },
    {
      "cell_type": "markdown",
      "source": [
        "*156 rows were removed about 0.76% to handle median income outliers*"
      ],
      "metadata": {
        "id": "W-l2fdkEWheg"
      }
    },
    {
      "cell_type": "markdown",
      "source": [
        "514 rows were removed to handle outliers about 2.5%"
      ],
      "metadata": {
        "id": "wdRKCPPNWjNo"
      }
    },
    {
      "cell_type": "markdown",
      "source": [
        "**Visualize how the population and houses prices distributed along the map**"
      ],
      "metadata": {
        "id": "LiYPasOjXEh5"
      }
    },
    {
      "cell_type": "code",
      "source": [
        "df.plot(kind=\"scatter\", x=\"longitude\", y=\"latitude\", alpha=0.4,\n",
        "        s=df[\"population\"]/100, label=\"population\", figsize=(15,8),\n",
        "        c=\"median_house_value\", cmap=plt.get_cmap(\"jet\"),colorbar=True,\n",
        "    )\n",
        "plt.legend()\n",
        "plt.show()"
      ],
      "metadata": {
        "id": "wFY_8pvSWnTh"
      },
      "execution_count": null,
      "outputs": []
    },
    {
      "cell_type": "markdown",
      "source": [
        "**Correlation**"
      ],
      "metadata": {
        "id": "aAWoJRBkXq8E"
      }
    },
    {
      "cell_type": "code",
      "source": [
        "plt.figure(figsize = (12,8))\n",
        "sns.heatmap(df5.corr() , annot = True , cmap = \"YlGnBu\")"
      ],
      "metadata": {
        "id": "NuZEdM6zXrhL"
      },
      "execution_count": null,
      "outputs": []
    },
    {
      "cell_type": "markdown",
      "source": [
        "* median income has 68% relation with median house value.\n",
        "* total rooms has 16% relation with median house value.\n",
        "* latitude has 14% relation with median house value.\n",
        "* housing median age has 11% relation with median house value.\n",
        "* longitude has 92% relation with longitude.\n",
        "* longitude has 29% relation with ocean proximity.\n",
        "* latitude has 20% relation with ocean proximity.\n",
        "* median income has 24% relation with total rooms.\n",
        "* median house age has averag 32% relation with total rooms, total bedrooms,  population and households.\n",
        "* total rooms, total bedrooms, population and households have average 92% relation with eachother.\n",
        "\n"
      ],
      "metadata": {
        "id": "XAYEqicUXzVA"
      }
    },
    {
      "cell_type": "markdown",
      "source": [
        "**Median house value distribution**"
      ],
      "metadata": {
        "id": "mBZktlKFX5q9"
      }
    },
    {
      "cell_type": "code",
      "source": [
        "# Histogram\n",
        "\n",
        "fig = plt.figure(figsize=(15, 5))\n",
        "\n",
        "plt.subplot(131)\n",
        "\n",
        "(sns.distplot(df5[\"housing_median_age\"], bins = \"fd\", norm_hist = True, kde = False, color = \"skyblue\", hist_kws = dict(alpha = 1))\n",
        "    .set(xlabel = \"Housing Median Age\", ylabel = \"Density\", title = \"Median House Age Histogram\"));\n",
        "\n",
        "plt.subplot(132)\n",
        "\n",
        "(sns.distplot(df5[\"total_rooms\"], bins = \"fd\", norm_hist = True, kde = False, color = \"skyblue\", hist_kws = dict(alpha = 1))\n",
        "    .set(xlabel = \"Total Rooms\", ylabel = \"Density\", title = \"Total Rooms Histogram\"));\n",
        "\n",
        "plt.subplot(133)\n",
        "\n",
        "(sns.distplot(df5[\"total_bedrooms\"], bins = \"fd\", norm_hist = True, kde = False, color = \"skyblue\", hist_kws = dict(alpha = 1))\n",
        "    .set(xlabel = \"Total Bedrooms\", ylabel = \"Density\", title = \"Total Bedrooms Histogram\"));\n",
        "\n",
        "plt.tight_layout()\n",
        "plt.show()\n",
        "\n",
        "# Boxplot\n",
        "\n",
        "fig = plt.figure(figsize=(15, 5))\n",
        "\n",
        "plt.subplot(131)\n",
        "sns.boxplot(y=df5[\"housing_median_age\"], color=\"skyblue\").set_title('Median House Age Boxplot')\n",
        "\n",
        "plt.subplot(132)\n",
        "sns.boxplot(y=df5[\"total_rooms\"], color=\"skyblue\").set_title('Total Rooms Boxplot')\n",
        "\n",
        "plt.subplot(133)\n",
        "sns.boxplot(y=df5[\"total_bedrooms\"], color=\"skyblue\").set_title('Total Bedrooms Boxplot')\n",
        "\n",
        "plt.tight_layout()\n",
        "plt.show()\n",
        "\n",
        "\n",
        "# Histogram\n",
        "\n",
        "fig = plt.figure(figsize=(15, 5))\n",
        "\n",
        "plt.subplot(131)\n",
        "\n",
        "(sns.distplot(df5[\"population\"], bins = \"fd\", norm_hist = True, kde = False, color = \"skyblue\", hist_kws = dict(alpha = 1))\n",
        "    .set(xlabel = \"Population\", ylabel = \"Density\", title = \"Population Histogram\"));\n",
        "\n",
        "plt.subplot(132)\n",
        "\n",
        "(sns.distplot(df5[\"households\"], bins = \"fd\", norm_hist = True, kde = False, color = \"skyblue\", hist_kws = dict(alpha = 1))\n",
        "    .set(xlabel = \"Households\", ylabel = \"Density\", title = \"Households Histogram\"));\n",
        "\n",
        "plt.subplot(133)\n",
        "\n",
        "(sns.distplot(df5[\"median_income\"], bins = \"fd\", norm_hist = True, kde = False, color = \"skyblue\", hist_kws = dict(alpha = 1))\n",
        "    .set(xlabel = \"Median Income\", ylabel = \"Density\", title = \"Median Income Histogram\"));\n",
        "\n",
        "plt.tight_layout()\n",
        "plt.show()\n",
        "\n",
        "\n",
        "# Boxplot\n",
        "\n",
        "fig = plt.figure(figsize=(15, 5))\n",
        "\n",
        "plt.subplot(131)\n",
        "sns.boxplot(y=df5[\"population\"], color=\"skyblue\").set_title('Population Boxplot')\n",
        "\n",
        "plt.subplot(132)\n",
        "sns.boxplot(y=df5[\"households\"], color=\"skyblue\").set_title('Households Boxplot')\n",
        "\n",
        "plt.subplot(133)\n",
        "sns.boxplot(y=df5[\"median_income\"], color=\"skyblue\").set_title('Median Income Boxplot')\n",
        "\n",
        "plt.tight_layout()\n",
        "plt.show()"
      ],
      "metadata": {
        "id": "2xtxgDCtX0Jc"
      },
      "execution_count": null,
      "outputs": []
    },
    {
      "cell_type": "markdown",
      "source": [
        "**Ocean proximity values' counts**"
      ],
      "metadata": {
        "id": "5gyouSBrYgCv"
      }
    },
    {
      "cell_type": "code",
      "source": [
        "ex.pie(df5,names='ocean_proximity',title='Proportion of Locations of the house w.r.t ocean/sea')"
      ],
      "metadata": {
        "id": "NCnI8Dh4YhNt"
      },
      "execution_count": null,
      "outputs": []
    },
    {
      "cell_type": "markdown",
      "source": [
        "* 44.06% of houses <1H Ocean.\n",
        "* 31.96% of houses Inlande.\n",
        "* 12.85% of houses Island.\n",
        "* 11.11% of houses Near bay.\n",
        "* 0.02% of houses Near ocean."
      ],
      "metadata": {
        "id": "FXm4nTxmYnbb"
      }
    },
    {
      "cell_type": "code",
      "source": [
        "fig=plt.figure(figsize=(17, 4))\n",
        "plt.subplot(132)\n",
        "sns.boxplot( x=df5[\"ocean_proximity\"], y=df[\"median_house_value\"], palette=\"Blues\").set_title('Median House Value Boxplot by Ocean Proximity')\n",
        "\n",
        "plt.tight_layout()\n",
        "plt.show()"
      ],
      "metadata": {
        "id": "VNX10WwmYorL"
      },
      "execution_count": null,
      "outputs": []
    },
    {
      "cell_type": "code",
      "source": [
        "# sns.pairplot(df)"
      ],
      "metadata": {
        "id": "AiDP_MtKZEUh"
      },
      "execution_count": null,
      "outputs": []
    },
    {
      "cell_type": "markdown",
      "source": [
        "**Encode categorical values**"
      ],
      "metadata": {
        "id": "bdHVpTdJUxvj"
      }
    },
    {
      "cell_type": "code",
      "source": [
        "from sklearn.preprocessing import LabelEncoder"
      ],
      "metadata": {
        "id": "flUsenkwZLqb"
      },
      "execution_count": null,
      "outputs": []
    },
    {
      "cell_type": "code",
      "source": [
        "ocean_proximity_le = LabelEncoder()"
      ],
      "metadata": {
        "id": "0Yqy13OfZR_h"
      },
      "execution_count": null,
      "outputs": []
    },
    {
      "cell_type": "code",
      "source": [
        "df5['ocean_proximity'] = ocean_proximity_le.fit_transform(df5['ocean_proximity'])"
      ],
      "metadata": {
        "id": "cOAhQw8iZT6N"
      },
      "execution_count": null,
      "outputs": []
    },
    {
      "cell_type": "code",
      "source": [
        "df5[\"ocean_proximity\"].value_counts()"
      ],
      "metadata": {
        "id": "ZwIgx9nFZVwa"
      },
      "execution_count": null,
      "outputs": []
    },
    {
      "cell_type": "code",
      "source": [
        "print(\"representation value\")\n",
        "for i in range(len(ocean_proximity_le.classes_)):\n",
        "    print(f\"{i}\\t\\t{ocean_proximity_le.classes_[i]}\")"
      ],
      "metadata": {
        "id": "_XzdtI2iZzgg"
      },
      "execution_count": null,
      "outputs": []
    },
    {
      "cell_type": "markdown",
      "source": [
        "**BUILD MODEL PREDICT**"
      ],
      "metadata": {
        "id": "9UIeDSGvqXNc"
      }
    },
    {
      "cell_type": "markdown",
      "source": [
        "**Split Data**"
      ],
      "metadata": {
        "id": "3bf-IYoGaY_V"
      }
    },
    {
      "cell_type": "code",
      "source": [
        "df5.columns"
      ],
      "metadata": {
        "id": "O4Evhos4aZqK"
      },
      "execution_count": null,
      "outputs": []
    },
    {
      "cell_type": "code",
      "source": [
        "final = df5[[\"longitude\", \"latitude\",'housing_median_age', 'total_rooms',\n",
        "       'total_bedrooms', 'population', 'households', 'median_income', 'ocean_proximity', 'median_house_value']]"
      ],
      "metadata": {
        "id": "wSNpQMfQacUH"
      },
      "execution_count": null,
      "outputs": []
    },
    {
      "cell_type": "code",
      "source": [
        "final.tail(2)"
      ],
      "metadata": {
        "id": "jGXZfuKBarPs"
      },
      "execution_count": null,
      "outputs": []
    },
    {
      "cell_type": "code",
      "source": [
        "X = final.drop(['median_house_value'] , axis = 1).values\n",
        "y = final['median_house_value'].values"
      ],
      "metadata": {
        "id": "GJCDA_cYaxQv"
      },
      "execution_count": null,
      "outputs": []
    },
    {
      "cell_type": "code",
      "source": [
        "from sklearn.model_selection import train_test_split"
      ],
      "metadata": {
        "id": "AvYBnZiJMHeD"
      },
      "execution_count": null,
      "outputs": []
    },
    {
      "cell_type": "code",
      "source": [
        "X_train, X_test, y_train, y_test = train_test_split(X, y, test_size= 0.25, random_state= 42)"
      ],
      "metadata": {
        "id": "byr37B_Ea2Va"
      },
      "execution_count": null,
      "outputs": []
    },
    {
      "cell_type": "markdown",
      "source": [
        "**Scaling**"
      ],
      "metadata": {
        "id": "3xndWK32a7O9"
      }
    },
    {
      "cell_type": "code",
      "source": [
        "from sklearn.preprocessing import StandardScaler\n",
        "scale = StandardScaler()"
      ],
      "metadata": {
        "id": "BNygeuWkbApI"
      },
      "execution_count": null,
      "outputs": []
    },
    {
      "cell_type": "code",
      "source": [
        "X_train=scale.fit_transform(X_train)\n",
        "X_test=scale.fit_transform(X_test)"
      ],
      "metadata": {
        "id": "LelJZDZ8a6Of"
      },
      "execution_count": null,
      "outputs": []
    },
    {
      "cell_type": "code",
      "source": [
        "X_train.shape, y_train.shape"
      ],
      "metadata": {
        "id": "U-LP58OyboGk"
      },
      "execution_count": null,
      "outputs": []
    },
    {
      "cell_type": "markdown",
      "source": [
        "**Linear Regression**"
      ],
      "metadata": {
        "id": "fpjmN3G3cDLI"
      }
    },
    {
      "cell_type": "markdown",
      "source": [
        "Linear regression models are useful for prediction and to explain variation in the response variable. In this case, we will focus on prediction. So we will fit a predictive model to an observed data set of values of the response and explanatory variables.\n",
        "\n",
        "                  Y=β0+β1X1+β2X2+ε\n",
        "\n",
        "To run the linear model we will use a class from Scikit-learn called **Linear Regression()** this class has a function called **fit()** , which will train our data."
      ],
      "metadata": {
        "id": "SZugSjWG_kYr"
      }
    },
    {
      "cell_type": "code",
      "source": [
        "from sklearn.linear_model import LinearRegression\n",
        "from sklearn.metrics import r2_score, mean_squared_error, mean_absolute_error , mean_absolute_percentage_error"
      ],
      "metadata": {
        "id": "mnOU_S9eb_u6"
      },
      "execution_count": null,
      "outputs": []
    },
    {
      "cell_type": "code",
      "source": [
        "lr = LinearRegression()\n",
        "lr.fit(X_train, y_train)\n",
        "\n",
        "y_pred_lr = lr.predict(X_test)"
      ],
      "metadata": {
        "id": "FDIDmvl5cMeq"
      },
      "execution_count": null,
      "outputs": []
    },
    {
      "cell_type": "markdown",
      "source": [
        "We can see above, that the variable regressor_linear is a Linear Regression model trained from the variables X_train and y_train. To train the model means that we are looking for the line that better fits the training data, to do so we will use the **predict()** function."
      ],
      "metadata": {
        "id": "UK6BKqP3AACn"
      }
    },
    {
      "cell_type": "code",
      "source": [
        "lr_frame = pd.DataFrame({\"Y_test\": y_test , \"Y_pred\" : y_pred_lr})\n",
        "lr_frame.head(10)"
      ],
      "metadata": {
        "id": "l6zePWKFgMTq"
      },
      "execution_count": null,
      "outputs": []
    },
    {
      "cell_type": "code",
      "source": [
        "plt.figure(figsize=(10,8))\n",
        "plt.plot(lr_frame[:50])\n",
        "plt.legend([\"Actual\" , \"Predicted\"])"
      ],
      "metadata": {
        "id": "HKmd4Y-Y9XjN"
      },
      "execution_count": null,
      "outputs": []
    },
    {
      "cell_type": "code",
      "source": [
        "mae_linear = np.round(metrics.mean_absolute_error(y_test, y_pred_lr))\n",
        "mse_linear = np.round(metrics.mean_squared_error(y_test, y_pred_lr))\n",
        "rmse_linear = np.round(np.sqrt(metrics.mean_squared_error(y_test, y_pred_lr)))\n",
        "\n",
        "\n",
        "print('Mean Absolute Error:', mae_linear, 2)\n",
        "print('Mean Squared Error:', mse_linear, 2)\n",
        "print('Root Mean Squared Erro:', rmse_linear, 2)"
      ],
      "metadata": {
        "id": "ZAE3X2gY9wTd"
      },
      "execution_count": null,
      "outputs": []
    },
    {
      "cell_type": "code",
      "source": [
        "# residual plot\n",
        "plt.figure(figsize=(12,7))\n",
        "(sns.distplot((y_test-y_pred_lr), bins = \"fd\", norm_hist = True, kde = False, color = \"skyblue\", hist_kws = dict(alpha = 1))\n",
        "    .set(xlabel = \"(y_test-y_pred)\", ylabel = \"Density\"\n",
        "    , title = \"Regression Tree Residual Plot\"));"
      ],
      "metadata": {
        "id": "IBwp9ish9-ym"
      },
      "execution_count": null,
      "outputs": []
    },
    {
      "cell_type": "markdown",
      "source": [
        "**Random Forest**"
      ],
      "metadata": {
        "id": "8VRkfRIeiWGv"
      }
    },
    {
      "cell_type": "markdown",
      "source": [
        "Random Forest is an evolution of bagging. The Random Forest model provide an **improvement over bagged trees** by way of a small tweak that **decorrelates the trees**.\n",
        "\n",
        "As in bagging, we build a number of decision trees on bootstrapped training samples. But when building these decision trees, each time a split in a tree is considered, a **random sample of m predictors is chosen as split candidates from the full set of p predictors**. The idea behind this process is to decorrelate the trees, for example: Suppose that there is one very strong predictor in the data set, along with a number of other moderately strong predictors. Then in the collection of bagged trees, most or all of the trees will use this strong predictor in the top split. Consequently, all of the bagged trees will look quite similar to each other. Hence the predictions from the bagged trees will be highly correlated.\n",
        "\n",
        "In Random Forest p is the full set of predictors and m is the predictors taken at each split. So, **the main difference between bagging and random forests is the choice of predictor subset size m**. For instance, if a random forest is built using m = p, then this amounts simply to bagging."
      ],
      "metadata": {
        "id": "d4WGEQL5Ab6s"
      }
    },
    {
      "cell_type": "code",
      "source": [
        "regressor_rf = RandomForestRegressor(random_state=42)\n",
        "regressor_rf.fit(X_train, y_train)\n",
        "y_pred_forest = regressor_rf.predict(X_test)"
      ],
      "metadata": {
        "id": "JXuzLK-7ajDB"
      },
      "execution_count": null,
      "outputs": []
    },
    {
      "cell_type": "code",
      "source": [
        "regressor_rf_frame = pd.DataFrame({\"Y_test\": y_test , \"Y_pred\" : y_pred_forest})\n",
        "regressor_rf_frame.head(10)"
      ],
      "metadata": {
        "id": "9pgijpuWbBPC"
      },
      "execution_count": null,
      "outputs": []
    },
    {
      "cell_type": "code",
      "source": [
        "plt.figure(figsize=(10,8))\n",
        "plt.plot(regressor_rf_frame[:50])\n",
        "plt.legend([\"Actual\" , \"Predicted\"])"
      ],
      "metadata": {
        "id": "nNoWVkAXbLP6"
      },
      "execution_count": null,
      "outputs": []
    },
    {
      "cell_type": "code",
      "source": [
        "mae_forest = np.round(metrics.mean_absolute_error(y_test, y_pred_forest))\n",
        "mse_forest = np.round(metrics.mean_squared_error(y_test, y_pred_forest))\n",
        "rmse_forest = np.round(np.sqrt(metrics.mean_squared_error(y_test, y_pred_forest)))\n",
        "\n",
        "\n",
        "print('Mean Absolute Error:', mae_forest, 2)\n",
        "print('Mean Squared Error:', mse_forest, 2)\n",
        "print('Root Mean Squared Erro:', rmse_forest, 2)"
      ],
      "metadata": {
        "id": "BkpuZHKgbWCm"
      },
      "execution_count": null,
      "outputs": []
    },
    {
      "cell_type": "code",
      "source": [
        "# residual plot\n",
        "plt.figure(figsize=(12,7))\n",
        "(sns.distplot((y_test-y_pred_forest), bins = \"fd\", norm_hist = True, kde = False, color = \"skyblue\", hist_kws = dict(alpha = 1))\n",
        "    .set(xlabel = \"(y_test-y_pred)\", ylabel = \"Density\", title = \"RF Residual Plot\"));"
      ],
      "metadata": {
        "id": "RB9WMpO0boCR"
      },
      "execution_count": null,
      "outputs": []
    },
    {
      "cell_type": "markdown",
      "source": [
        "**Cross Validition Random Forest**"
      ],
      "metadata": {
        "id": "-Lpt3_jkbtpL"
      }
    },
    {
      "cell_type": "code",
      "source": [
        "from sklearn.model_selection import GridSearchCV\n",
        "from sklearn.model_selection import RandomizedSearchCV\n",
        "from sklearn.model_selection import cross_val_score, KFold\n",
        "\n",
        "param_dist = {\n",
        "    'n_estimators': [100, 200, 300],\n",
        "    'max_depth': [None, 5, 10],\n",
        "    'min_samples_split': [2, 5, 10],\n",
        "    'min_samples_leaf': [1, 2, 4]\n",
        "}\n",
        "\n",
        "random_search = RandomizedSearchCV(regressor_rf, param_dist, n_iter=10, scoring='neg_mean_squared_error', cv=5, random_state=42, n_jobs=-1)\n",
        "random_search.fit(X_train, y_train)\n"
      ],
      "metadata": {
        "id": "wtKohgIZcGKB"
      },
      "execution_count": null,
      "outputs": []
    },
    {
      "cell_type": "code",
      "source": [
        "best_regressor_rf = random_search.best_estimator_\n",
        "y_pred_forest_cv = best_regressor_rf.predict(X_test)"
      ],
      "metadata": {
        "id": "2S8XGdQGm92L"
      },
      "execution_count": null,
      "outputs": []
    },
    {
      "cell_type": "code",
      "source": [
        "regressor_rf_frame_cv = pd.DataFrame({\"Y_test\": y_test , \"Y_pred\" : y_pred_forest_cv})\n",
        "regressor_rf_frame_cv.head(10)"
      ],
      "metadata": {
        "id": "rFSwNLUZnOGr"
      },
      "execution_count": null,
      "outputs": []
    },
    {
      "cell_type": "code",
      "source": [
        "plt.figure(figsize=(10,8))\n",
        "plt.plot(regressor_rf_frame_cv[:50])\n",
        "plt.legend([\"Actual\" , \"Predicted\"])"
      ],
      "metadata": {
        "id": "SxpYYUKhfJ2Y"
      },
      "execution_count": null,
      "outputs": []
    },
    {
      "cell_type": "code",
      "source": [
        "mae_forest_cv = np.round(metrics.mean_absolute_error(y_test, y_pred_forest))\n",
        "mse_forest_cv = np.round(metrics.mean_squared_error(y_test, y_pred_forest))\n",
        "rmse_forest_cv = np.round(np.sqrt(metrics.mean_squared_error(y_test, y_pred_forest)))\n",
        "\n",
        "\n",
        "print('Mean Absolute Error:', mae_forest_cv, 2)\n",
        "print('Mean Squared Error:', mse_forest_cv, 2)\n",
        "print('Root Mean Squared Erro:', rmse_forest_cv, 2)"
      ],
      "metadata": {
        "id": "MJpOsZEWnpfr"
      },
      "execution_count": null,
      "outputs": []
    },
    {
      "cell_type": "code",
      "source": [
        "  # residual plot\n",
        "  plt.figure(figsize=(12,7))\n",
        "  (sns.distplot((y_test-y_pred_forest_cv), bins = \"fd\", norm_hist = True, kde = False, color = \"skyblue\", hist_kws = dict(alpha = 1))\n",
        "      .set(xlabel = \"(y_test-y_pred)\", ylabel = \"Density\", title = \"RF Residual Plot\"));"
      ],
      "metadata": {
        "id": "61Zf8rswn05X"
      },
      "execution_count": null,
      "outputs": []
    },
    {
      "cell_type": "code",
      "source": [
        "models = ['Random Forest' , 'Random Forest CV']\n",
        "data = [ [mae_forest , mse_forest, rmse_forest], [mae_forest_cv , mse_forest_cv, rmse_forest_cv]]\n",
        "cols = ['mae' , 'mse', 'rmse']\n",
        "pd.DataFrame(data=data , index = models , columns = cols)"
      ],
      "metadata": {
        "id": "9QaZgPyjoIEx"
      },
      "execution_count": null,
      "outputs": []
    },
    {
      "cell_type": "markdown",
      "source": [
        "**REGRESSION TREE**"
      ],
      "metadata": {
        "id": "XOFtAcj7lRmf"
      }
    },
    {
      "cell_type": "markdown",
      "source": [
        "Decision Trees methods involve stratifying or segmenting the predictor space into a number of simple regions. Decision Trees are **simple and useful for interpretation**, however they are typically **not competitive in terms of prediction accuracy**.\n",
        "\n",
        "Decision trees can be applied to both **regression and classification problems**. At this task, we are going to use **Regression Trees**\n",
        "\n",
        "**Advantages of Decision Trees**:\n",
        "\n",
        "1. Trees are very easy to explain to people. In fact, they are even easier to explain than linear regression!\n",
        "2. Some people believe that decision trees more closely mirror human decision-making than do the regression and classification approaches seen in previous chapters.\n",
        "3. Trees can be displayed graphically, and are easily interpreted even by a non-expert (especially if they are small).\n",
        "4. Trees can easily handle qualitative predictors without the need to create dummy variables,\n",
        "\n",
        "**Disadvantages of Decision Trees**:\n",
        "\n",
        "1. Unfortunately, trees generally do not have the same level of predictive accuracy as some of the other regression and classification approaches seen in this book.\n",
        "2. Additionally, trees can be very non-robust. In other words, a small change in the data can cause a large change in the final estimated tree (high variance)\n",
        "\n",
        "However, by aggregating many decision trees the predictive performance of trees can be substantially improved. We will evaluate these models in the next cells."
      ],
      "metadata": {
        "id": "e3etYptqB4k4"
      }
    },
    {
      "cell_type": "code",
      "source": [
        "from sklearn.tree import DecisionTreeRegressor\n",
        "from sklearn.model_selection import GridSearchCV, train_test_split\n",
        "from sklearn.metrics import mean_squared_error"
      ],
      "metadata": {
        "id": "kF5z2ZjKlaXe"
      },
      "execution_count": null,
      "outputs": []
    },
    {
      "cell_type": "code",
      "source": [
        "regressor_tree = DecisionTreeRegressor(random_state = 42)\n",
        "regressor_tree.fit(X_train, y_train)\n",
        "\n",
        "y_pred_tree = regressor_tree.predict(X_test)"
      ],
      "metadata": {
        "id": "gafioUQYWlm5"
      },
      "execution_count": null,
      "outputs": []
    },
    {
      "cell_type": "code",
      "source": [
        "regressor_tree_frame = pd.DataFrame({\"Y_test\": y_test , \"Y_pred\" : y_pred_tree})\n",
        "regressor_tree_frame.head(10)"
      ],
      "metadata": {
        "id": "GDQY7Hk1W8EW"
      },
      "execution_count": null,
      "outputs": []
    },
    {
      "cell_type": "code",
      "source": [
        "plt.figure(figsize=(10,8))\n",
        "plt.plot(regressor_tree_frame[:50])\n",
        "plt.legend([\"Actual\" , \"Predicted\"])"
      ],
      "metadata": {
        "id": "25s0s8E_X-BO"
      },
      "execution_count": null,
      "outputs": []
    },
    {
      "cell_type": "code",
      "source": [
        "mae_tree = np.round(metrics.mean_absolute_error(y_test, y_pred_tree))\n",
        "mse_tree = np.round(metrics.mean_squared_error(y_test, y_pred_tree))\n",
        "rmse_tree = np.round(np.sqrt(metrics.mean_squared_error(y_test, y_pred_tree)))\n",
        "\n",
        "\n",
        "print('Mean Absolute Error:', mae_tree, 2)\n",
        "print('Mean Squared Error:', mse_tree, 2)\n",
        "print('Root Mean Squared Erro:', rmse_tree, 2)"
      ],
      "metadata": {
        "id": "sSxDLB97XS25"
      },
      "execution_count": null,
      "outputs": []
    },
    {
      "cell_type": "code",
      "source": [
        "# residual plot\n",
        "plt.figure(figsize=(12,7))\n",
        "(sns.distplot((y_test-y_pred_tree), bins = \"fd\", norm_hist = True, kde = False, color = \"skyblue\", hist_kws = dict(alpha = 1))\n",
        "    .set(xlabel = \"(y_test-y_pred)\", ylabel = \"Density\", title = \"RF Residual Plot\"));"
      ],
      "metadata": {
        "id": "ICgtokY1ZKg6"
      },
      "execution_count": null,
      "outputs": []
    },
    {
      "cell_type": "markdown",
      "source": [
        "**Cross Validition Regression Tree**"
      ],
      "metadata": {
        "id": "tY2bGxVAYLIN"
      }
    },
    {
      "cell_type": "code",
      "source": [
        "param_grid = {\n",
        "    'max_depth': [None, 5, 10, 15],\n",
        "    'min_samples_split': [2, 5, 10],\n",
        "    'min_samples_leaf': [1, 2, 4]\n",
        "}\n",
        "\n",
        "grid_search = GridSearchCV(regressor_tree, param_grid, cv=5, scoring='neg_mean_squared_error', n_jobs=-1)\n",
        "grid_search.fit(X_train, y_train)\n",
        "\n",
        "print(\"Best Hyperparameters:\", grid_search.best_params_)"
      ],
      "metadata": {
        "id": "fQZsvAyQCsqY"
      },
      "execution_count": null,
      "outputs": []
    },
    {
      "cell_type": "code",
      "source": [
        "best_regressor_tree = grid_search.best_estimator_\n",
        "y_pred_tree_cv = best_regressor_tree.predict(X_test)"
      ],
      "metadata": {
        "id": "NksN7B0HUilB"
      },
      "execution_count": null,
      "outputs": []
    },
    {
      "cell_type": "code",
      "source": [
        "regressor_tree_frame_cv = pd.DataFrame({\"Y_test\": y_test, \"Y_pred\": y_pred_tree_cv})\n",
        "regressor_tree_frame_cv.head(10)"
      ],
      "metadata": {
        "id": "e8ITqcvfSvBk"
      },
      "execution_count": null,
      "outputs": []
    },
    {
      "cell_type": "code",
      "source": [
        "plt.figure(figsize=(10,8))\n",
        "plt.plot(regressor_tree_frame_cv[:50])\n",
        "plt.legend([\"Actual\" , \"Predicted\"])"
      ],
      "metadata": {
        "id": "8jLJoHssTKo7"
      },
      "execution_count": null,
      "outputs": []
    },
    {
      "cell_type": "code",
      "source": [
        "mae_tree_cv = np.round(metrics.mean_absolute_error(y_test, y_pred_tree_cv))\n",
        "mse_tree_cv = np.round(metrics.mean_squared_error(y_test, y_pred_tree_cv))\n",
        "rmse_tree_cv = np.round(np.sqrt(metrics.mean_squared_error(y_test, y_pred_tree_cv)))\n",
        "\n",
        "\n",
        "print('Mean Absolute Error:', mae_tree_cv, 2)\n",
        "print('Mean Squared Error:', mse_tree_cv, 2)\n",
        "print('Root Mean Squared Erro:', rmse_tree_cv, 2)"
      ],
      "metadata": {
        "id": "Kjpugy_7S0t-"
      },
      "execution_count": null,
      "outputs": []
    },
    {
      "cell_type": "code",
      "source": [
        "# residual plot\n",
        "plt.figure(figsize=(12,7))\n",
        "(sns.distplot((y_test-y_pred_tree_cv), bins = \"fd\", norm_hist = True, kde = False, color = \"skyblue\", hist_kws = dict(alpha = 1))\n",
        "    .set(xlabel = \"(y_test-y_pred)\", ylabel = \"Density\", title = \"RF Residual Plot\"));"
      ],
      "metadata": {
        "id": "5oSjuGyZDrbx"
      },
      "execution_count": null,
      "outputs": []
    },
    {
      "cell_type": "markdown",
      "source": [
        "**Comparison Regression Tree**"
      ],
      "metadata": {
        "id": "FFt4jAIAaSOO"
      }
    },
    {
      "cell_type": "code",
      "source": [
        "models = ['Regression Tree' , 'Regression Tree CV']\n",
        "data = [ [mae_tree , mse_tree, rmse_tree], [mae_tree_cv , mse_tree_cv, rmse_tree_cv]]\n",
        "cols = ['mae' , 'mse', 'rmse']\n",
        "pd.DataFrame(data=data , index = models , columns = cols)"
      ],
      "metadata": {
        "id": "y1EdLkhGZR3j"
      },
      "execution_count": null,
      "outputs": []
    },
    {
      "cell_type": "markdown",
      "source": [
        "**Evaluation on Test Data**"
      ],
      "metadata": {
        "id": "umrdqDO7e1VG"
      }
    },
    {
      "cell_type": "code",
      "source": [
        "testing = pd.read_excel('/content/testing_data.xlsx')"
      ],
      "metadata": {
        "id": "1hLTTUb_h42M"
      },
      "execution_count": null,
      "outputs": []
    },
    {
      "cell_type": "code",
      "source": [
        "testing['ocean_proximity'] = ocean_proximity_le.fit_transform(testing['ocean_proximity'])\n",
        "df_test = testing[[\"longitude\", \"latitude\", 'housing_median_age',\n",
        "       'total_rooms', 'total_bedrooms', 'population', 'households',\n",
        "       'median_income', 'ocean_proximity']]"
      ],
      "metadata": {
        "id": "IurhjIsbh9J1"
      },
      "execution_count": null,
      "outputs": []
    },
    {
      "cell_type": "code",
      "source": [
        "sc = StandardScaler()\n",
        "predict_test = sc.fit_transform(df_test)"
      ],
      "metadata": {
        "id": "eAt879lXfEyE"
      },
      "execution_count": null,
      "outputs": []
    },
    {
      "cell_type": "code",
      "source": [
        "testing.head()"
      ],
      "metadata": {
        "id": "Mm-QWqYlfNhi"
      },
      "execution_count": null,
      "outputs": []
    },
    {
      "cell_type": "code",
      "source": [
        "testing.shape"
      ],
      "metadata": {
        "id": "E_fzAdkJvWy7"
      },
      "execution_count": null,
      "outputs": []
    },
    {
      "cell_type": "code",
      "source": [
        "y_pred_lr_test = lr.predict(predict_test)\n",
        "\n",
        "y_pred_forest_test = best_regressor_rf.predict(predict_test)\n",
        "\n",
        "y_pred_tree_test = best_regressor_tree.predict(predict_test)"
      ],
      "metadata": {
        "id": "-ShRFrc-trQB"
      },
      "execution_count": null,
      "outputs": []
    },
    {
      "cell_type": "code",
      "source": [
        "lr_frame_test = pd.DataFrame({\"Y_test\": testing[\"median_house_value\"] , \"Y_pred\" : y_pred_lr_test})\n",
        "regressor_rf_frame_test = pd.DataFrame({\"Y_test\": testing[\"median_house_value\"], \"Y_pred\" : y_pred_forest_test})\n",
        "regressor_tree_frame_test = pd.DataFrame({\"Y_test\": testing[\"median_house_value\"], \"Y_pred\": y_pred_tree_test})"
      ],
      "metadata": {
        "id": "FSoNsL78sWA0"
      },
      "execution_count": null,
      "outputs": []
    },
    {
      "cell_type": "code",
      "source": [
        "lr_frame_test[5:]"
      ],
      "metadata": {
        "id": "Bdqy5a6_xFUA"
      },
      "execution_count": null,
      "outputs": []
    },
    {
      "cell_type": "code",
      "source": [
        "regressor_rf_frame_test[5:]"
      ],
      "metadata": {
        "id": "TiBZLrK6xHoW"
      },
      "execution_count": null,
      "outputs": []
    },
    {
      "cell_type": "code",
      "source": [
        "regressor_tree_frame_test"
      ],
      "metadata": {
        "id": "VbajhQ0oxJVO"
      },
      "execution_count": null,
      "outputs": []
    },
    {
      "cell_type": "markdown",
      "source": [
        "**Comparison**"
      ],
      "metadata": {
        "id": "yr02MztyOuHY"
      }
    },
    {
      "cell_type": "code",
      "source": [
        "models = ['LinearRegression' , 'Regression Tree' , 'Random Forest']\n",
        "data = [[mae_linear , mse_linear, rmse_linear], [mae_tree_cv , mse_tree_cv, rmse_tree_cv],[mae_forest_cv , mse_forest_cv, rmse_forest_cv]]\n",
        "cols = ['mae' , 'mse', 'rmse']\n",
        "pd.DataFrame(data=data , index = models , columns = cols)"
      ],
      "metadata": {
        "id": "oTlXqFPyO1yy"
      },
      "execution_count": null,
      "outputs": []
    }
  ]
}